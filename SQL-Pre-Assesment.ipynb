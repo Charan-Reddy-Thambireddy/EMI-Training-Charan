{
    "metadata": {
        "kernelspec": {
            "name": "SQL",
            "display_name": "SQL",
            "language": "sql"
        },
        "language_info": {
            "name": "sql",
            "version": ""
        },
        "extensions": {
            "azuredatastudio": {
                "version": 1,
                "views": []
            }
        }
    },
    "nbformat_minor": 2,
    "nbformat": 4,
    "cells": [
        {
            "cell_type": "code",
            "source": [
                "Select * from Employees where FirstName not like '[a-p]%'"
            ],
            "metadata": {
                "azdata_cell_guid": "cb546ce9-4abf-46fd-b40e-93916b3078f9"
            },
            "outputs": [
                {
                    "output_type": "display_data",
                    "data": {
                        "text/html": "(1 row affected)"
                    },
                    "metadata": {}
                },
                {
                    "output_type": "display_data",
                    "data": {
                        "text/html": "Total execution time: 00:00:00.011"
                    },
                    "metadata": {}
                },
                {
                    "output_type": "execute_result",
                    "metadata": {},
                    "execution_count": 19,
                    "data": {
                        "application/vnd.dataresource+json": {
                            "schema": {
                                "fields": [
                                    {
                                        "name": "Empid"
                                    },
                                    {
                                        "name": "FirstName"
                                    },
                                    {
                                        "name": "LastName"
                                    },
                                    {
                                        "name": "Salary"
                                    },
                                    {
                                        "name": "JoiningDate"
                                    },
                                    {
                                        "name": "Department"
                                    },
                                    {
                                        "name": "Gender"
                                    }
                                ]
                            },
                            "data": [
                                {
                                    "0": "1",
                                    "1": "Vikas",
                                    "2": "Ahlawat",
                                    "3": "600000.00",
                                    "4": "2015-02-15 10:06:00.000",
                                    "5": "IT                  ",
                                    "6": "Male      "
                                }
                            ]
                        },
                        "text/html": [
                            "<table>",
                            "<tr><th>Empid</th><th>FirstName</th><th>LastName</th><th>Salary</th><th>JoiningDate</th><th>Department</th><th>Gender</th></tr>",
                            "<tr><td>1</td><td>Vikas</td><td>Ahlawat</td><td>600000.00</td><td>2015-02-15 10:06:00.000</td><td>IT                  </td><td>Male      </td></tr>",
                            "</table>"
                        ]
                    }
                }
            ],
            "execution_count": 19
        },
        {
            "cell_type": "code",
            "source": [
                "Select * from Employees where RTRIM(LTRIM(gender)) like '%le' and len(RTRIM(LTRIM(gender)))=4"
            ],
            "metadata": {
                "azdata_cell_guid": "e464d4de-dad9-41df-9972-aad95175ad5b"
            },
            "outputs": [
                {
                    "output_type": "display_data",
                    "data": {
                        "text/html": "(4 rows affected)"
                    },
                    "metadata": {}
                },
                {
                    "output_type": "display_data",
                    "data": {
                        "text/html": "Total execution time: 00:00:00.007"
                    },
                    "metadata": {}
                },
                {
                    "output_type": "execute_result",
                    "metadata": {},
                    "execution_count": 37,
                    "data": {
                        "application/vnd.dataresource+json": {
                            "schema": {
                                "fields": [
                                    {
                                        "name": "Empid"
                                    },
                                    {
                                        "name": "FirstName"
                                    },
                                    {
                                        "name": "LastName"
                                    },
                                    {
                                        "name": "Salary"
                                    },
                                    {
                                        "name": "JoiningDate"
                                    },
                                    {
                                        "name": "Department"
                                    },
                                    {
                                        "name": "Gender"
                                    }
                                ]
                            },
                            "data": [
                                {
                                    "0": "1",
                                    "1": "Vikas",
                                    "2": "Ahlawat",
                                    "3": "600000.00",
                                    "4": "2015-02-15 10:06:00.000",
                                    "5": "IT                  ",
                                    "6": "Male      "
                                },
                                {
                                    "0": "3",
                                    "1": "Ashish",
                                    "2": "Kumar",
                                    "3": "1000000.00",
                                    "4": "2014-09-01 09:00:00.000",
                                    "5": "IT                  ",
                                    "6": "Male      "
                                },
                                {
                                    "0": "4",
                                    "1": "Nikhil",
                                    "2": "Sharma",
                                    "3": "480000.00",
                                    "4": "2014-01-09 00:00:00.000",
                                    "5": "HR                  ",
                                    "6": "Male      "
                                },
                                {
                                    "0": "5",
                                    "1": "Anish",
                                    "2": "Kadian",
                                    "3": "500000.00",
                                    "4": "2014-01-09 10:30:50.000",
                                    "5": "Payroll             ",
                                    "6": "Male      "
                                }
                            ]
                        },
                        "text/html": [
                            "<table>",
                            "<tr><th>Empid</th><th>FirstName</th><th>LastName</th><th>Salary</th><th>JoiningDate</th><th>Department</th><th>Gender</th></tr>",
                            "<tr><td>1</td><td>Vikas</td><td>Ahlawat</td><td>600000.00</td><td>2015-02-15 10:06:00.000</td><td>IT                  </td><td>Male      </td></tr>",
                            "<tr><td>3</td><td>Ashish</td><td>Kumar</td><td>1000000.00</td><td>2014-09-01 09:00:00.000</td><td>IT                  </td><td>Male      </td></tr>",
                            "<tr><td>4</td><td>Nikhil</td><td>Sharma</td><td>480000.00</td><td>2014-01-09 00:00:00.000</td><td>HR                  </td><td>Male      </td></tr>",
                            "<tr><td>5</td><td>Anish</td><td>Kadian</td><td>500000.00</td><td>2014-01-09 10:30:50.000</td><td>Payroll             </td><td>Male      </td></tr>",
                            "</table>"
                        ]
                    }
                }
            ],
            "execution_count": 37
        },
        {
            "cell_type": "code",
            "source": [
                "Select * from Employees where FirstName like 'a%' and len(FirstName)=5"
            ],
            "metadata": {
                "azdata_cell_guid": "0768d0b3-f3dd-4483-a23f-6071510403e9"
            },
            "outputs": [
                {
                    "output_type": "display_data",
                    "data": {
                        "text/html": "(1 row affected)"
                    },
                    "metadata": {}
                },
                {
                    "output_type": "display_data",
                    "data": {
                        "text/html": "Total execution time: 00:00:00.009"
                    },
                    "metadata": {}
                },
                {
                    "output_type": "execute_result",
                    "metadata": {},
                    "execution_count": 38,
                    "data": {
                        "application/vnd.dataresource+json": {
                            "schema": {
                                "fields": [
                                    {
                                        "name": "Empid"
                                    },
                                    {
                                        "name": "FirstName"
                                    },
                                    {
                                        "name": "LastName"
                                    },
                                    {
                                        "name": "Salary"
                                    },
                                    {
                                        "name": "JoiningDate"
                                    },
                                    {
                                        "name": "Department"
                                    },
                                    {
                                        "name": "Gender"
                                    }
                                ]
                            },
                            "data": [
                                {
                                    "0": "5",
                                    "1": "Anish",
                                    "2": "Kadian",
                                    "3": "500000.00",
                                    "4": "2014-01-09 10:30:50.000",
                                    "5": "Payroll             ",
                                    "6": "Male      "
                                }
                            ]
                        },
                        "text/html": [
                            "<table>",
                            "<tr><th>Empid</th><th>FirstName</th><th>LastName</th><th>Salary</th><th>JoiningDate</th><th>Department</th><th>Gender</th></tr>",
                            "<tr><td>5</td><td>Anish</td><td>Kadian</td><td>500000.00</td><td>2014-01-09 10:30:50.000</td><td>Payroll             </td><td>Male      </td></tr>",
                            "</table>"
                        ]
                    }
                }
            ],
            "execution_count": 38
        },
        {
            "cell_type": "code",
            "source": [
                "Select Distinct(Department) from Employees"
            ],
            "metadata": {
                "azdata_cell_guid": "fb49718e-408d-4669-bc70-248c1c09b95a"
            },
            "outputs": [
                {
                    "output_type": "display_data",
                    "data": {
                        "text/html": "(3 rows affected)"
                    },
                    "metadata": {}
                },
                {
                    "output_type": "display_data",
                    "data": {
                        "text/html": "Total execution time: 00:00:00.010"
                    },
                    "metadata": {}
                },
                {
                    "output_type": "execute_result",
                    "metadata": {},
                    "execution_count": 22,
                    "data": {
                        "application/vnd.dataresource+json": {
                            "schema": {
                                "fields": [
                                    {
                                        "name": "Department"
                                    }
                                ]
                            },
                            "data": [
                                {
                                    "0": "HR                  "
                                },
                                {
                                    "0": "IT                  "
                                },
                                {
                                    "0": "Payroll             "
                                }
                            ]
                        },
                        "text/html": [
                            "<table>",
                            "<tr><th>Department</th></tr>",
                            "<tr><td>HR                  </td></tr>",
                            "<tr><td>IT                  </td></tr>",
                            "<tr><td>Payroll             </td></tr>",
                            "</table>"
                        ]
                    }
                }
            ],
            "execution_count": 22
        },
        {
            "cell_type": "code",
            "source": [
                "Select Max(Salary)as 'Higest Salary', Min(Salary) as 'Lowest Salary' from Employees    "
            ],
            "metadata": {
                "azdata_cell_guid": "08ee7f23-43a1-4c36-b34b-5f0650f46197"
            },
            "outputs": [
                {
                    "output_type": "display_data",
                    "data": {
                        "text/html": "(1 row affected)"
                    },
                    "metadata": {}
                },
                {
                    "output_type": "display_data",
                    "data": {
                        "text/html": "Total execution time: 00:00:00.012"
                    },
                    "metadata": {}
                },
                {
                    "output_type": "execute_result",
                    "metadata": {},
                    "execution_count": 23,
                    "data": {
                        "application/vnd.dataresource+json": {
                            "schema": {
                                "fields": [
                                    {
                                        "name": "Higest Salary"
                                    },
                                    {
                                        "name": "Lowest Salary"
                                    }
                                ]
                            },
                            "data": [
                                {
                                    "0": "1000000.00",
                                    "1": "480000.00"
                                }
                            ]
                        },
                        "text/html": [
                            "<table>",
                            "<tr><th>Higest Salary</th><th>Lowest Salary</th></tr>",
                            "<tr><td>1000000.00</td><td>480000.00</td></tr>",
                            "</table>"
                        ]
                    }
                }
            ],
            "execution_count": 23
        },
        {
            "cell_type": "code",
            "source": [
                "select Format([joiningDate], 'yyyy/mm/dd')as JoiningDate from Employees"
            ],
            "metadata": {
                "azdata_cell_guid": "dac08dc8-881d-46d5-a32d-2388f0f24b8f"
            },
            "outputs": [
                {
                    "output_type": "display_data",
                    "data": {
                        "text/html": "(5 rows affected)"
                    },
                    "metadata": {}
                },
                {
                    "output_type": "display_data",
                    "data": {
                        "text/html": "Total execution time: 00:00:00.016"
                    },
                    "metadata": {}
                },
                {
                    "output_type": "execute_result",
                    "metadata": {},
                    "execution_count": 24,
                    "data": {
                        "application/vnd.dataresource+json": {
                            "schema": {
                                "fields": [
                                    {
                                        "name": "JoiningDate"
                                    }
                                ]
                            },
                            "data": [
                                {
                                    "0": "2015/06/15"
                                },
                                {
                                    "0": "2017/00/01"
                                },
                                {
                                    "0": "2014/00/01"
                                },
                                {
                                    "0": "2014/00/09"
                                },
                                {
                                    "0": "2014/30/09"
                                }
                            ]
                        },
                        "text/html": [
                            "<table>",
                            "<tr><th>JoiningDate</th></tr>",
                            "<tr><td>2015/06/15</td></tr>",
                            "<tr><td>2017/00/01</td></tr>",
                            "<tr><td>2014/00/01</td></tr>",
                            "<tr><td>2014/00/09</td></tr>",
                            "<tr><td>2014/30/09</td></tr>",
                            "</table>"
                        ]
                    }
                }
            ],
            "execution_count": 24
        },
        {
            "cell_type": "code",
            "source": [
                "Select CAST(joiningDate as time)[JoiningTime] from Employees"
            ],
            "metadata": {
                "azdata_cell_guid": "745558a8-1235-4362-8b39-7a822db80695"
            },
            "outputs": [
                {
                    "output_type": "display_data",
                    "data": {
                        "text/html": "(5 rows affected)"
                    },
                    "metadata": {}
                },
                {
                    "output_type": "display_data",
                    "data": {
                        "text/html": "Total execution time: 00:00:00.007"
                    },
                    "metadata": {}
                },
                {
                    "output_type": "execute_result",
                    "metadata": {},
                    "execution_count": 39,
                    "data": {
                        "application/vnd.dataresource+json": {
                            "schema": {
                                "fields": [
                                    {
                                        "name": "JoiningTime"
                                    }
                                ]
                            },
                            "data": [
                                {
                                    "0": "10:06:00"
                                },
                                {
                                    "0": "03:00:10"
                                },
                                {
                                    "0": "09:00:00"
                                },
                                {
                                    "0": "00:00:00"
                                },
                                {
                                    "0": "10:30:50"
                                }
                            ]
                        },
                        "text/html": [
                            "<table>",
                            "<tr><th>JoiningTime</th></tr>",
                            "<tr><td>10:06:00</td></tr>",
                            "<tr><td>03:00:10</td></tr>",
                            "<tr><td>09:00:00</td></tr>",
                            "<tr><td>00:00:00</td></tr>",
                            "<tr><td>10:30:50</td></tr>",
                            "</table>"
                        ]
                    }
                }
            ],
            "execution_count": 39
        },
        {
            "cell_type": "code",
            "source": [
                "Select Top(1) * from Employees"
            ],
            "metadata": {
                "azdata_cell_guid": "c3b0b3ac-8e75-4b93-8565-c3123a977d1a"
            },
            "outputs": [
                {
                    "output_type": "display_data",
                    "data": {
                        "text/html": "(1 row affected)"
                    },
                    "metadata": {}
                },
                {
                    "output_type": "display_data",
                    "data": {
                        "text/html": "Total execution time: 00:00:00.006"
                    },
                    "metadata": {}
                },
                {
                    "output_type": "execute_result",
                    "metadata": {},
                    "execution_count": 40,
                    "data": {
                        "application/vnd.dataresource+json": {
                            "schema": {
                                "fields": [
                                    {
                                        "name": "Empid"
                                    },
                                    {
                                        "name": "FirstName"
                                    },
                                    {
                                        "name": "LastName"
                                    },
                                    {
                                        "name": "Salary"
                                    },
                                    {
                                        "name": "JoiningDate"
                                    },
                                    {
                                        "name": "Department"
                                    },
                                    {
                                        "name": "Gender"
                                    }
                                ]
                            },
                            "data": [
                                {
                                    "0": "1",
                                    "1": "Vikas",
                                    "2": "Ahlawat",
                                    "3": "600000.00",
                                    "4": "2015-02-15 10:06:00.000",
                                    "5": "IT                  ",
                                    "6": "Male      "
                                }
                            ]
                        },
                        "text/html": [
                            "<table>",
                            "<tr><th>Empid</th><th>FirstName</th><th>LastName</th><th>Salary</th><th>JoiningDate</th><th>Department</th><th>Gender</th></tr>",
                            "<tr><td>1</td><td>Vikas</td><td>Ahlawat</td><td>600000.00</td><td>2015-02-15 10:06:00.000</td><td>IT                  </td><td>Male      </td></tr>",
                            "</table>"
                        ]
                    }
                }
            ],
            "execution_count": 40
        },
        {
            "cell_type": "code",
            "source": [
                "Select * from Employees where FirstName in ('Vikas','Akash','Nikhil')"
            ],
            "metadata": {
                "azdata_cell_guid": "99a0d460-377b-4533-bdc4-a98bf6de4521",
                "tags": []
            },
            "outputs": [
                {
                    "output_type": "display_data",
                    "data": {
                        "text/html": "(2 rows affected)"
                    },
                    "metadata": {}
                },
                {
                    "output_type": "display_data",
                    "data": {
                        "text/html": "Total execution time: 00:00:00.010"
                    },
                    "metadata": {}
                },
                {
                    "output_type": "execute_result",
                    "metadata": {},
                    "execution_count": 42,
                    "data": {
                        "application/vnd.dataresource+json": {
                            "schema": {
                                "fields": [
                                    {
                                        "name": "Empid"
                                    },
                                    {
                                        "name": "FirstName"
                                    },
                                    {
                                        "name": "LastName"
                                    },
                                    {
                                        "name": "Salary"
                                    },
                                    {
                                        "name": "JoiningDate"
                                    },
                                    {
                                        "name": "Department"
                                    },
                                    {
                                        "name": "Gender"
                                    }
                                ]
                            },
                            "data": [
                                {
                                    "0": "1",
                                    "1": "Vikas",
                                    "2": "Ahlawat",
                                    "3": "600000.00",
                                    "4": "2015-02-15 10:06:00.000",
                                    "5": "IT                  ",
                                    "6": "Male      "
                                },
                                {
                                    "0": "4",
                                    "1": "Nikhil",
                                    "2": "Sharma",
                                    "3": "480000.00",
                                    "4": "2014-01-09 00:00:00.000",
                                    "5": "HR                  ",
                                    "6": "Male      "
                                }
                            ]
                        },
                        "text/html": [
                            "<table>",
                            "<tr><th>Empid</th><th>FirstName</th><th>LastName</th><th>Salary</th><th>JoiningDate</th><th>Department</th><th>Gender</th></tr>",
                            "<tr><td>1</td><td>Vikas</td><td>Ahlawat</td><td>600000.00</td><td>2015-02-15 10:06:00.000</td><td>IT                  </td><td>Male      </td></tr>",
                            "<tr><td>4</td><td>Nikhil</td><td>Sharma</td><td>480000.00</td><td>2014-01-09 00:00:00.000</td><td>HR                  </td><td>Male      </td></tr>",
                            "</table>"
                        ]
                    }
                }
            ],
            "execution_count": 42
        },
        {
            "cell_type": "code",
            "source": [
                "Select * from Employees where FirstName not in ('Vikas','Akash','Nikhil')"
            ],
            "metadata": {
                "azdata_cell_guid": "7ac1df55-8ddd-4f23-8034-e3c6d2d6ba26"
            },
            "outputs": [
                {
                    "output_type": "display_data",
                    "data": {
                        "text/html": "(3 rows affected)"
                    },
                    "metadata": {}
                },
                {
                    "output_type": "display_data",
                    "data": {
                        "text/html": "Total execution time: 00:00:00.013"
                    },
                    "metadata": {}
                },
                {
                    "output_type": "execute_result",
                    "metadata": {},
                    "execution_count": 43,
                    "data": {
                        "application/vnd.dataresource+json": {
                            "schema": {
                                "fields": [
                                    {
                                        "name": "Empid"
                                    },
                                    {
                                        "name": "FirstName"
                                    },
                                    {
                                        "name": "LastName"
                                    },
                                    {
                                        "name": "Salary"
                                    },
                                    {
                                        "name": "JoiningDate"
                                    },
                                    {
                                        "name": "Department"
                                    },
                                    {
                                        "name": "Gender"
                                    }
                                ]
                            },
                            "data": [
                                {
                                    "0": "2",
                                    "1": "Nikita",
                                    "2": "Jain",
                                    "3": "530000.00",
                                    "4": "2017-09-01 03:00:10.000",
                                    "5": "HR                  ",
                                    "6": "Female    "
                                },
                                {
                                    "0": "3",
                                    "1": "Ashish",
                                    "2": "Kumar",
                                    "3": "1000000.00",
                                    "4": "2014-09-01 09:00:00.000",
                                    "5": "IT                  ",
                                    "6": "Male      "
                                },
                                {
                                    "0": "5",
                                    "1": "Anish",
                                    "2": "Kadian",
                                    "3": "500000.00",
                                    "4": "2014-01-09 10:30:50.000",
                                    "5": "Payroll             ",
                                    "6": "Male      "
                                }
                            ]
                        },
                        "text/html": [
                            "<table>",
                            "<tr><th>Empid</th><th>FirstName</th><th>LastName</th><th>Salary</th><th>JoiningDate</th><th>Department</th><th>Gender</th></tr>",
                            "<tr><td>2</td><td>Nikita</td><td>Jain</td><td>530000.00</td><td>2017-09-01 03:00:10.000</td><td>HR                  </td><td>Female    </td></tr>",
                            "<tr><td>3</td><td>Ashish</td><td>Kumar</td><td>1000000.00</td><td>2014-09-01 09:00:00.000</td><td>IT                  </td><td>Male      </td></tr>",
                            "<tr><td>5</td><td>Anish</td><td>Kadian</td><td>500000.00</td><td>2014-01-09 10:30:50.000</td><td>Payroll             </td><td>Male      </td></tr>",
                            "</table>"
                        ]
                    }
                }
            ],
            "execution_count": 43
        },
        {
            "cell_type": "code",
            "source": [
                "Select RTRIM(FirstName) from Employees"
            ],
            "metadata": {
                "azdata_cell_guid": "d089ff44-bf06-491b-930e-ea5c9381cdde"
            },
            "outputs": [
                {
                    "output_type": "display_data",
                    "data": {
                        "text/html": "(5 rows affected)"
                    },
                    "metadata": {}
                },
                {
                    "output_type": "display_data",
                    "data": {
                        "text/html": "Total execution time: 00:00:00.011"
                    },
                    "metadata": {}
                },
                {
                    "output_type": "execute_result",
                    "metadata": {},
                    "execution_count": 44,
                    "data": {
                        "application/vnd.dataresource+json": {
                            "schema": {
                                "fields": [
                                    {
                                        "name": "(No column name)"
                                    }
                                ]
                            },
                            "data": [
                                {
                                    "0": "Vikas"
                                },
                                {
                                    "0": "Nikita"
                                },
                                {
                                    "0": "Ashish"
                                },
                                {
                                    "0": "Nikhil"
                                },
                                {
                                    "0": "Anish"
                                }
                            ]
                        },
                        "text/html": [
                            "<table>",
                            "<tr><th>(No column name)</th></tr>",
                            "<tr><td>Vikas</td></tr>",
                            "<tr><td>Nikita</td></tr>",
                            "<tr><td>Ashish</td></tr>",
                            "<tr><td>Nikhil</td></tr>",
                            "<tr><td>Anish</td></tr>",
                            "</table>"
                        ]
                    }
                }
            ],
            "execution_count": 44
        },
        {
            "cell_type": "code",
            "source": [
                "Select FirstName,\r\n",
                "Case when Gender = 'Male' then 'M' when Gender = 'Female' then 'F' else 'Other' end as Gender \r\n",
                "from Employees"
            ],
            "metadata": {
                "azdata_cell_guid": "b6f6f11e-151b-4c7c-84fb-a940d5d040fa"
            },
            "outputs": [
                {
                    "output_type": "display_data",
                    "data": {
                        "text/html": "(5 rows affected)"
                    },
                    "metadata": {}
                },
                {
                    "output_type": "display_data",
                    "data": {
                        "text/html": "Total execution time: 00:00:00.011"
                    },
                    "metadata": {}
                },
                {
                    "output_type": "execute_result",
                    "metadata": {},
                    "execution_count": 56,
                    "data": {
                        "application/vnd.dataresource+json": {
                            "schema": {
                                "fields": [
                                    {
                                        "name": "FirstName"
                                    },
                                    {
                                        "name": "Gender"
                                    }
                                ]
                            },
                            "data": [
                                {
                                    "0": "Vikas",
                                    "1": "M"
                                },
                                {
                                    "0": "Nikita",
                                    "1": "F"
                                },
                                {
                                    "0": "Ashish",
                                    "1": "M"
                                },
                                {
                                    "0": "Nikhil",
                                    "1": "M"
                                },
                                {
                                    "0": "Anish",
                                    "1": "M"
                                }
                            ]
                        },
                        "text/html": [
                            "<table>",
                            "<tr><th>FirstName</th><th>Gender</th></tr>",
                            "<tr><td>Vikas</td><td>M</td></tr>",
                            "<tr><td>Nikita</td><td>F</td></tr>",
                            "<tr><td>Ashish</td><td>M</td></tr>",
                            "<tr><td>Nikhil</td><td>M</td></tr>",
                            "<tr><td>Anish</td><td>M</td></tr>",
                            "</table>"
                        ]
                    }
                }
            ],
            "execution_count": 56
        },
        {
            "cell_type": "code",
            "source": [
                "Select 'Hello '+FirstName as FirstName from Employees"
            ],
            "metadata": {
                "azdata_cell_guid": "4026ad62-598b-4073-962d-4cc3b8799acb"
            },
            "outputs": [
                {
                    "output_type": "display_data",
                    "data": {
                        "text/html": "(5 rows affected)"
                    },
                    "metadata": {}
                },
                {
                    "output_type": "display_data",
                    "data": {
                        "text/html": "Total execution time: 00:00:00.005"
                    },
                    "metadata": {}
                },
                {
                    "output_type": "execute_result",
                    "metadata": {},
                    "execution_count": 54,
                    "data": {
                        "application/vnd.dataresource+json": {
                            "schema": {
                                "fields": [
                                    {
                                        "name": "FirstName"
                                    }
                                ]
                            },
                            "data": [
                                {
                                    "0": "Hello Vikas"
                                },
                                {
                                    "0": "Hello Nikita"
                                },
                                {
                                    "0": "Hello Ashish"
                                },
                                {
                                    "0": "Hello Nikhil"
                                },
                                {
                                    "0": "Hello Anish"
                                }
                            ]
                        },
                        "text/html": [
                            "<table>",
                            "<tr><th>FirstName</th></tr>",
                            "<tr><td>Hello Vikas</td></tr>",
                            "<tr><td>Hello Nikita</td></tr>",
                            "<tr><td>Hello Ashish</td></tr>",
                            "<tr><td>Hello Nikhil</td></tr>",
                            "<tr><td>Hello Anish</td></tr>",
                            "</table>"
                        ]
                    }
                }
            ],
            "execution_count": 54
        },
        {
            "cell_type": "code",
            "source": [
                "Select max(salary) as 'Second Maximum Salary' from Employees where Salary < (select max(Salary) from Employees)"
            ],
            "metadata": {
                "azdata_cell_guid": "7a911f58-aa3a-4d50-8b34-32c1a096491e"
            },
            "outputs": [
                {
                    "output_type": "display_data",
                    "data": {
                        "text/html": "(1 row affected)"
                    },
                    "metadata": {}
                },
                {
                    "output_type": "display_data",
                    "data": {
                        "text/html": "Total execution time: 00:00:00.008"
                    },
                    "metadata": {}
                },
                {
                    "output_type": "execute_result",
                    "metadata": {},
                    "execution_count": 55,
                    "data": {
                        "application/vnd.dataresource+json": {
                            "schema": {
                                "fields": [
                                    {
                                        "name": "Second Maximum Salary"
                                    }
                                ]
                            },
                            "data": [
                                {
                                    "0": "600000.00"
                                }
                            ]
                        },
                        "text/html": [
                            "<table>",
                            "<tr><th>Second Maximum Salary</th></tr>",
                            "<tr><td>600000.00</td></tr>",
                            "</table>"
                        ]
                    }
                }
            ],
            "execution_count": 55
        }
    ]
}