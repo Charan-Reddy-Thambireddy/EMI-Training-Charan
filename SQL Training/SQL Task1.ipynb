{
    "metadata": {
        "kernelspec": {
            "name": "SQL",
            "display_name": "SQL",
            "language": "sql"
        },
        "language_info": {
            "name": "sql",
            "version": ""
        },
        "extensions": {
            "azuredatastudio": {
                "version": 1,
                "views": []
            }
        }
    },
    "nbformat_minor": 2,
    "nbformat": 4,
    "cells": [
        {
            "cell_type": "code",
            "source": [
                "insert into EmployeeExe1 values(1234, 'J. Jones','Sales','18-Jun-92',24 )"
            ],
            "metadata": {
                "azdata_cell_guid": "5bb36538-2f0c-40f3-969d-32c7ab3e5e3c"
            },
            "outputs": [
                {
                    "output_type": "display_data",
                    "data": {
                        "text/html": "(1 row affected)"
                    },
                    "metadata": {}
                },
                {
                    "output_type": "display_data",
                    "data": {
                        "text/html": "Total execution time: 00:00:00.003"
                    },
                    "metadata": {}
                }
            ],
            "execution_count": 3
        },
        {
            "cell_type": "code",
            "source": [
                "insert into EmployeeExe1 values(2345, 'S. Smith','Production','12-Feb-98',40 )"
            ],
            "metadata": {
                "azdata_cell_guid": "5ecbe992-bf55-47df-b9ff-2f6cddd82807"
            },
            "outputs": [
                {
                    "output_type": "display_data",
                    "data": {
                        "text/html": "(1 row affected)"
                    },
                    "metadata": {}
                },
                {
                    "output_type": "display_data",
                    "data": {
                        "text/html": "Total execution time: 00:00:00.002"
                    },
                    "metadata": {}
                }
            ],
            "execution_count": 4
        },
        {
            "cell_type": "code",
            "source": [
                "insert into EmployeeExe1 values(3456, 'A. Adams','Sales','18-Nov-98',60 )"
            ],
            "metadata": {
                "azdata_cell_guid": "db13e011-8431-40a6-b3af-c9aeaf9a1b77"
            },
            "outputs": [
                {
                    "output_type": "display_data",
                    "data": {
                        "text/html": "(1 row affected)"
                    },
                    "metadata": {}
                },
                {
                    "output_type": "display_data",
                    "data": {
                        "text/html": "Total execution time: 00:00:00.006"
                    },
                    "metadata": {}
                }
            ],
            "execution_count": 5
        },
        {
            "cell_type": "code",
            "source": [
                "Select Distinct(Department) from EmployeeExe1"
            ],
            "metadata": {
                "azdata_cell_guid": "de6d37d2-5bd5-4af4-b0ac-e594a99c1dbc"
            },
            "outputs": [
                {
                    "output_type": "display_data",
                    "data": {
                        "text/html": "(4 rows affected)"
                    },
                    "metadata": {}
                },
                {
                    "output_type": "display_data",
                    "data": {
                        "text/html": "Total execution time: 00:00:00.044"
                    },
                    "metadata": {}
                },
                {
                    "output_type": "execute_result",
                    "metadata": {},
                    "execution_count": 6,
                    "data": {
                        "application/vnd.dataresource+json": {
                            "schema": {
                                "fields": [
                                    {
                                        "name": "Department"
                                    }
                                ]
                            },
                            "data": [
                                {
                                    "0": "Advertising"
                                },
                                {
                                    "0": "Production"
                                },
                                {
                                    "0": "Sales"
                                },
                                {
                                    "0": "Shipping"
                                }
                            ]
                        },
                        "text/html": [
                            "<table>",
                            "<tr><th>Department</th></tr>",
                            "<tr><td>Advertising</td></tr>",
                            "<tr><td>Production</td></tr>",
                            "<tr><td>Sales</td></tr>",
                            "<tr><td>Shipping</td></tr>",
                            "</table>"
                        ]
                    }
                }
            ],
            "execution_count": 6
        },
        {
            "cell_type": "code",
            "source": [
                "Alter Table EmployeeExe1\r\n",
                "Add Location nvarchar(50);"
            ],
            "metadata": {
                "azdata_cell_guid": "fe082a13-4b4f-413d-8495-1852a7c00fe1"
            },
            "outputs": [
                {
                    "output_type": "display_data",
                    "data": {
                        "text/html": "Commands completed successfully."
                    },
                    "metadata": {}
                },
                {
                    "output_type": "display_data",
                    "data": {
                        "text/html": "Total execution time: 00:00:00.002"
                    },
                    "metadata": {}
                }
            ],
            "execution_count": 21
        },
        {
            "cell_type": "code",
            "source": [
                "update EmployeeExe1 set Location='NewYork'"
            ],
            "metadata": {
                "azdata_cell_guid": "c24ea54e-9adc-419e-b95c-0db6908df007"
            },
            "outputs": [
                {
                    "output_type": "display_data",
                    "data": {
                        "text/html": "(9 rows affected)"
                    },
                    "metadata": {}
                },
                {
                    "output_type": "display_data",
                    "data": {
                        "text/html": "Total execution time: 00:00:00.002"
                    },
                    "metadata": {}
                }
            ],
            "execution_count": 34
        },
        {
            "cell_type": "code",
            "source": [
                "EXEC sp_rename 'EmployeeExe1.Empid', 'EmployeeID';"
            ],
            "metadata": {
                "azdata_cell_guid": "335423bf-f6dd-4910-8c42-1d22573e0712"
            },
            "outputs": [
                {
                    "output_type": "display_data",
                    "data": {
                        "text/html": "Caution: Changing any part of an object name could break scripts and stored procedures."
                    },
                    "metadata": {}
                },
                {
                    "output_type": "display_data",
                    "data": {
                        "text/html": "Total execution time: 00:00:00.004"
                    },
                    "metadata": {}
                }
            ],
            "execution_count": 41
        },
        {
            "cell_type": "code",
            "source": [
                "Select * from EmployeeExe1 where Department in ('Sales','Shipping')"
            ],
            "metadata": {
                "azdata_cell_guid": "a726809b-3e46-4821-b974-bfb8b3a872b8"
            },
            "outputs": [
                {
                    "output_type": "display_data",
                    "data": {
                        "text/html": "(4 rows affected)"
                    },
                    "metadata": {}
                },
                {
                    "output_type": "display_data",
                    "data": {
                        "text/html": "Total execution time: 00:00:00.016"
                    },
                    "metadata": {}
                },
                {
                    "output_type": "execute_result",
                    "metadata": {},
                    "execution_count": 42,
                    "data": {
                        "application/vnd.dataresource+json": {
                            "schema": {
                                "fields": [
                                    {
                                        "name": "EmployeeID"
                                    },
                                    {
                                        "name": "Name"
                                    },
                                    {
                                        "name": "Department"
                                    },
                                    {
                                        "name": "HireDate"
                                    },
                                    {
                                        "name": "Training"
                                    },
                                    {
                                        "name": "Location"
                                    }
                                ]
                            },
                            "data": [
                                {
                                    "0": "1234",
                                    "1": "J. Jones",
                                    "2": "Sales",
                                    "3": "1992-06-18",
                                    "4": "24",
                                    "5": "NewYork"
                                },
                                {
                                    "0": "3456",
                                    "1": "A. Adams",
                                    "2": "Sales",
                                    "3": "1998-11-18",
                                    "4": "60",
                                    "5": "NewYork"
                                },
                                {
                                    "0": "6789",
                                    "1": "C. Cole",
                                    "2": "Shipping",
                                    "3": "1991-05-18",
                                    "4": "32",
                                    "5": "NewYork"
                                },
                                {
                                    "0": "7890",
                                    "1": "E. Ellis",
                                    "2": "Sales",
                                    "3": "1998-12-15",
                                    "4": "80",
                                    "5": "NewYork"
                                }
                            ]
                        },
                        "text/html": [
                            "<table>",
                            "<tr><th>EmployeeID</th><th>Name</th><th>Department</th><th>HireDate</th><th>Training</th><th>Location</th></tr>",
                            "<tr><td>1234</td><td>J. Jones</td><td>Sales</td><td>1992-06-18</td><td>24</td><td>NewYork</td></tr>",
                            "<tr><td>3456</td><td>A. Adams</td><td>Sales</td><td>1998-11-18</td><td>60</td><td>NewYork</td></tr>",
                            "<tr><td>6789</td><td>C. Cole</td><td>Shipping</td><td>1991-05-18</td><td>32</td><td>NewYork</td></tr>",
                            "<tr><td>7890</td><td>E. Ellis</td><td>Sales</td><td>1998-12-15</td><td>80</td><td>NewYork</td></tr>",
                            "</table>"
                        ]
                    }
                }
            ],
            "execution_count": 42
        },
        {
            "cell_type": "code",
            "source": [
                "Select * from EmployeeExe1 where HireDate BETWEEN '1991-01-01' AND '1998-12-31'"
            ],
            "metadata": {
                "azdata_cell_guid": "f00949d8-0b73-4866-91dd-19b8a29b63f8"
            },
            "outputs": [
                {
                    "output_type": "display_data",
                    "data": {
                        "text/html": "(5 rows affected)"
                    },
                    "metadata": {}
                },
                {
                    "output_type": "display_data",
                    "data": {
                        "text/html": "Total execution time: 00:00:00.009"
                    },
                    "metadata": {}
                },
                {
                    "output_type": "execute_result",
                    "metadata": {},
                    "execution_count": 47,
                    "data": {
                        "application/vnd.dataresource+json": {
                            "schema": {
                                "fields": [
                                    {
                                        "name": "EmployeeID"
                                    },
                                    {
                                        "name": "Name"
                                    },
                                    {
                                        "name": "Department"
                                    },
                                    {
                                        "name": "HireDate"
                                    },
                                    {
                                        "name": "Training"
                                    },
                                    {
                                        "name": "Location"
                                    }
                                ]
                            },
                            "data": [
                                {
                                    "0": "1234",
                                    "1": "J. Jones",
                                    "2": "Sales",
                                    "3": "1992-06-18",
                                    "4": "24",
                                    "5": "NewYork"
                                },
                                {
                                    "0": "2345",
                                    "1": "S. Smith",
                                    "2": "Production",
                                    "3": "1998-02-12",
                                    "4": "40",
                                    "5": "NewYork"
                                },
                                {
                                    "0": "3456",
                                    "1": "A. Adams",
                                    "2": "Sales",
                                    "3": "1998-11-18",
                                    "4": "60",
                                    "5": "NewYork"
                                },
                                {
                                    "0": "6789",
                                    "1": "C. Cole",
                                    "2": "Shipping",
                                    "3": "1991-05-18",
                                    "4": "32",
                                    "5": "NewYork"
                                },
                                {
                                    "0": "7890",
                                    "1": "E. Ellis",
                                    "2": "Sales",
                                    "3": "1998-12-15",
                                    "4": "80",
                                    "5": "NewYork"
                                }
                            ]
                        },
                        "text/html": [
                            "<table>",
                            "<tr><th>EmployeeID</th><th>Name</th><th>Department</th><th>HireDate</th><th>Training</th><th>Location</th></tr>",
                            "<tr><td>1234</td><td>J. Jones</td><td>Sales</td><td>1992-06-18</td><td>24</td><td>NewYork</td></tr>",
                            "<tr><td>2345</td><td>S. Smith</td><td>Production</td><td>1998-02-12</td><td>40</td><td>NewYork</td></tr>",
                            "<tr><td>3456</td><td>A. Adams</td><td>Sales</td><td>1998-11-18</td><td>60</td><td>NewYork</td></tr>",
                            "<tr><td>6789</td><td>C. Cole</td><td>Shipping</td><td>1991-05-18</td><td>32</td><td>NewYork</td></tr>",
                            "<tr><td>7890</td><td>E. Ellis</td><td>Sales</td><td>1998-12-15</td><td>80</td><td>NewYork</td></tr>",
                            "</table>"
                        ]
                    }
                }
            ],
            "execution_count": 47
        },
        {
            "cell_type": "code",
            "source": [
                "Select Top 0 * into EmployeeNew from EmployeeExe1"
            ],
            "metadata": {
                "azdata_cell_guid": "12f2da2f-55b2-4446-bfb2-46d4a34ca30d"
            },
            "outputs": [
                {
                    "output_type": "display_data",
                    "data": {
                        "text/html": "(0 rows affected)"
                    },
                    "metadata": {}
                },
                {
                    "output_type": "display_data",
                    "data": {
                        "text/html": "Total execution time: 00:00:00.028"
                    },
                    "metadata": {}
                }
            ],
            "execution_count": 51
        },
        {
            "cell_type": "code",
            "source": [
                "Select * from EmployeeExe1 where Training>40"
            ],
            "metadata": {
                "azdata_cell_guid": "64271510-482f-425c-b474-86ac643bd793"
            },
            "outputs": [
                {
                    "output_type": "display_data",
                    "data": {
                        "text/html": "(4 rows affected)"
                    },
                    "metadata": {}
                },
                {
                    "output_type": "display_data",
                    "data": {
                        "text/html": "Total execution time: 00:00:00.008"
                    },
                    "metadata": {}
                },
                {
                    "output_type": "execute_result",
                    "metadata": {},
                    "execution_count": 55,
                    "data": {
                        "application/vnd.dataresource+json": {
                            "schema": {
                                "fields": [
                                    {
                                        "name": "EmployeeID"
                                    },
                                    {
                                        "name": "Name"
                                    },
                                    {
                                        "name": "Department"
                                    },
                                    {
                                        "name": "HireDate"
                                    },
                                    {
                                        "name": "Training"
                                    },
                                    {
                                        "name": "Location"
                                    }
                                ]
                            },
                            "data": [
                                {
                                    "0": "3456",
                                    "1": "A. Adams",
                                    "2": "Sales",
                                    "3": "1998-11-18",
                                    "4": "60",
                                    "5": "NewYork"
                                },
                                {
                                    "0": "5678",
                                    "1": "D. Davis",
                                    "2": "Production",
                                    "3": "1999-07-26",
                                    "4": "56",
                                    "5": "NewYork"
                                },
                                {
                                    "0": "7890",
                                    "1": "E. Ellis",
                                    "2": "Sales",
                                    "3": "1998-12-15",
                                    "4": "80",
                                    "5": "NewYork"
                                },
                                {
                                    "0": "9012",
                                    "1": "G. Gates",
                                    "2": "Advertising",
                                    "3": "1999-03-15",
                                    "4": "48",
                                    "5": "NewYork"
                                }
                            ]
                        },
                        "text/html": [
                            "<table>",
                            "<tr><th>EmployeeID</th><th>Name</th><th>Department</th><th>HireDate</th><th>Training</th><th>Location</th></tr>",
                            "<tr><td>3456</td><td>A. Adams</td><td>Sales</td><td>1998-11-18</td><td>60</td><td>NewYork</td></tr>",
                            "<tr><td>5678</td><td>D. Davis</td><td>Production</td><td>1999-07-26</td><td>56</td><td>NewYork</td></tr>",
                            "<tr><td>7890</td><td>E. Ellis</td><td>Sales</td><td>1998-12-15</td><td>80</td><td>NewYork</td></tr>",
                            "<tr><td>9012</td><td>G. Gates</td><td>Advertising</td><td>1999-03-15</td><td>48</td><td>NewYork</td></tr>",
                            "</table>"
                        ]
                    }
                }
            ],
            "execution_count": 55
        },
        {
            "cell_type": "code",
            "source": [
                "Select * into NewEmployee from EmployeeExe1"
            ],
            "metadata": {
                "azdata_cell_guid": "2fdf36b8-3b5c-4408-814b-0763917595fb"
            },
            "outputs": [
                {
                    "output_type": "display_data",
                    "data": {
                        "text/html": "(9 rows affected)"
                    },
                    "metadata": {}
                },
                {
                    "output_type": "display_data",
                    "data": {
                        "text/html": "Total execution time: 00:00:00.008"
                    },
                    "metadata": {}
                }
            ],
            "execution_count": 58
        },
        {
            "cell_type": "code",
            "source": [
                "Delete from NewEmployee where Training>60"
            ],
            "metadata": {
                "azdata_cell_guid": "8cc40250-c6a2-48d4-ad51-03682ddbeaf3"
            },
            "outputs": [
                {
                    "output_type": "display_data",
                    "data": {
                        "text/html": "(1 row affected)"
                    },
                    "metadata": {}
                },
                {
                    "output_type": "display_data",
                    "data": {
                        "text/html": "Total execution time: 00:00:00.011"
                    },
                    "metadata": {}
                }
            ],
            "execution_count": 59
        },
        {
            "cell_type": "code",
            "source": [
                "ALTER TABLE NewEmployee DROP COLUMN HireDate"
            ],
            "metadata": {
                "azdata_cell_guid": "6a71e206-e6b7-4df0-a21e-662395132748",
                "tags": []
            },
            "outputs": [
                {
                    "output_type": "display_data",
                    "data": {
                        "text/html": "Commands completed successfully."
                    },
                    "metadata": {}
                },
                {
                    "output_type": "display_data",
                    "data": {
                        "text/html": "Total execution time: 00:00:00.005"
                    },
                    "metadata": {}
                }
            ],
            "execution_count": 60
        },
        {
            "cell_type": "code",
            "source": [
                "ALTER TABLE NewEmployee ALTER COLUMN Department Varchar(34);"
            ],
            "metadata": {
                "azdata_cell_guid": "c528f389-4d07-445c-83be-c5cd3f9de10d"
            },
            "outputs": [
                {
                    "output_type": "display_data",
                    "data": {
                        "text/html": "Commands completed successfully."
                    },
                    "metadata": {}
                },
                {
                    "output_type": "display_data",
                    "data": {
                        "text/html": "Total execution time: 00:00:00.008"
                    },
                    "metadata": {}
                }
            ],
            "execution_count": 62
        },
        {
            "cell_type": "code",
            "source": [
                "insert into EmployeeExe1 (Name,Department,Training) values('V. Ranjan','Production',20 )"
            ],
            "metadata": {
                "azdata_cell_guid": "ee9d7f71-9138-4a72-bc35-0ff3f8ade5de"
            },
            "outputs": [
                {
                    "output_type": "display_data",
                    "data": {
                        "text/html": "(1 row affected)"
                    },
                    "metadata": {}
                },
                {
                    "output_type": "display_data",
                    "data": {
                        "text/html": "Total execution time: 00:00:00.005"
                    },
                    "metadata": {}
                }
            ],
            "execution_count": 61
        }
    ]
}